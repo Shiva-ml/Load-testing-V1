{
 "cells": [
  {
   "cell_type": "code",
   "execution_count": 93,
   "metadata": {},
   "outputs": [],
   "source": [
    "import base64\n",
    "import hashlib\n",
    "import html\n",
    "import json\n",
    "import os\n",
    "import re\n",
    "import urllib.parse\n",
    "import requests"
   ]
  },
  {
   "cell_type": "code",
   "execution_count": 94,
   "metadata": {},
   "outputs": [],
   "source": [
    "provider = \"http://localhost:8080/realms/fetchusers\"\n",
    "client_id = \"ch\"\n",
    "username = \"123\"\n",
    "password = \"123\"\n",
    "redirect_uri = \"*\"\n"
   ]
  },
  {
   "cell_type": "code",
   "execution_count": 95,
   "metadata": {},
   "outputs": [
    {
     "data": {
      "text/plain": [
       "('dcNOJE33XvxjvXLQZBpkcZPIsZulZEXpH2xlwEgHgJRjhnDjGcQ', 51)"
      ]
     },
     "execution_count": 95,
     "metadata": {},
     "output_type": "execute_result"
    }
   ],
   "source": [
    "code_verifier = base64.urlsafe_b64encode(os.urandom(40)).decode('utf-8')\n",
    "code_verifier = re.sub('[^a-zA-Z0-9]+', '', code_verifier)\n",
    "code_verifier, len(code_verifier)"
   ]
  },
  {
   "cell_type": "code",
   "execution_count": 96,
   "metadata": {},
   "outputs": [
    {
     "data": {
      "text/plain": [
       "('GmqV7p3ylsSblNVuI1HqJ3fUVi9iXVUulGj7Gq0Mzwc', 43)"
      ]
     },
     "execution_count": 96,
     "metadata": {},
     "output_type": "execute_result"
    }
   ],
   "source": [
    "code_challenge = hashlib.sha256(code_verifier.encode('utf-8')).digest()\n",
    "code_challenge = base64.urlsafe_b64encode(code_challenge).decode('utf-8')\n",
    "code_challenge = code_challenge.replace('=', '')\n",
    "code_challenge, len(code_challenge)"
   ]
  },
  {
   "cell_type": "code",
   "execution_count": 97,
   "metadata": {},
   "outputs": [
    {
     "data": {
      "text/plain": [
       "200"
      ]
     },
     "execution_count": 97,
     "metadata": {},
     "output_type": "execute_result"
    }
   ],
   "source": [
    "state = \"fooobarbaz\"\n",
    "resp = requests.get(\n",
    "    url=provider + \"/protocol/openid-connect/auth\",\n",
    "    params={\n",
    "        \"response_type\": \"code\",\n",
    "        \"client_id\": client_id,\n",
    "        \"scope\": \"openid\",\n",
    "        \"redirect_uri\": redirect_uri,\n",
    "        \"state\": state,\n",
    "        \"code_challenge\": code_challenge,\n",
    "        \"code_challenge_method\": \"S256\",\n",
    "    },\n",
    "    allow_redirects=False\n",
    ")\n",
    "resp.status_code"
   ]
  },
  {
   "cell_type": "code",
   "execution_count": 98,
   "metadata": {},
   "outputs": [
    {
     "data": {
      "text/plain": [
       "'AUTH_SESSION_ID=3bc142dd-8ad6-44f4-8c78-076ac92a47f1; AUTH_SESSION_ID_LEGACY=3bc142dd-8ad6-44f4-8c78-076ac92a47f1; KC_RESTART=eyJhbGciOiJkaXIiLCJlbmMiOiJBMTI4Q0JDLUhTMjU2In0..d3PX64HIln6JIjf6gLsvZg.S2omXQGpYVTKulzF2uhrZ5k11mBqG7Hc7fe6xZ6gnEFGba34pqTu-gA6yMiPcQEcHSAh1PHzTu6s9j8OGyAfhtZZcj2bK4bW0Oyv3UeRqatFUZ7iXwtNh_e0MdiD2RvB5oirxJUQtmPUgdyuE8QGyRu8g43sG83Bv8DpSUybcpOpM4tUO3MxTBIBA531fPpTQnUu7Tdy8vdpjeRkqOG5beNrpcz4j9pxPx7SeGp05qN_hSePx1WiWTdPfPuiBqr8dH4tCUGA6CrIRZ35xTwRtAv3Jh5vX-G3_7fO1w1a-uqqt1ldVxcUSmsCu3y0z6P3iU5QXQxCsITKqx52lI8nHD0_1c5J6U1sidasqdKiapOcCRsHScEHn8f5tQZA9csR4S3GWRtgnJgPF_v_VqcicW7dHnBmwR5eZYyE05WATabfmFaRTN8q_z3wqwrvsb_JClLwEZ1c0dIiiP-LUME57KXMSOHMO4g5fWxp_wzwod461xPX90suBF3q6LnxI_hwwvcI1fmgcAhesSiqEksfmIBBzBPPLnCf6urKH-6oaVFq8c7JqywzFOtrLjyfWv9fHuAkcglJzsbtzVBlg6JCrHr-xqtmy61-8uCJm9JwalEGtB3zrkE-2AlUgYizgiT2ydQA7vO4s98Jku94iru3-I0QvSU8iC4RZUdctfxcks1qZ1v0VfoSaK1gy44YyLZXLeZnvQxn0rlXQ0fE4KPT73cDwqkzXagBWbBvUKRCAPBWUHNl9lS1R4lIAzVhC5d8aXDA3_EF-FUWU9VzoXUhpwwAjH5vkxANAGivAuVSaOnqgILWQcazimQhJPQd9ehj.YN2_Celb4ruXG3gyViRnRA'"
      ]
     },
     "execution_count": 98,
     "metadata": {},
     "output_type": "execute_result"
    }
   ],
   "source": [
    "cookie = resp.headers['Set-Cookie']\n",
    "cookie = '; '.join(c.split(';')[0] for c in cookie.split(', '))\n",
    "cookie"
   ]
  },
  {
   "cell_type": "code",
   "execution_count": 100,
   "metadata": {},
   "outputs": [
    {
     "data": {
      "text/plain": [
       "'http://localhost:8080/realms/fetchusers/login-actions/authenticate?session_code=HUHHTJeB8aPsjdPZVM_dt7Hbld32IUuSqutpSOgCmmA&execution=2d96f996-d368-4e10-bdeb-8b877788645e&client_id=ch&tab_id=M97ogabatW4&client_data=eyJydSI6Imh0dHA6Ly9sb2NhbGhvc3Q6ODA4MC8qIiwicnQiOiJjb2RlIiwic3QiOiJmb29vYmFyYmF6In0'"
      ]
     },
     "execution_count": 100,
     "metadata": {},
     "output_type": "execute_result"
    }
   ],
   "source": [
    "page = resp.text\n",
    "form_action = html.unescape(re.search(r'<form\\s+.*?\\s+action=\"(.*?)\"', page, re.DOTALL).group(1))\n",
    "form_action"
   ]
  }
 ],
 "metadata": {
  "kernelspec": {
   "display_name": "Python 3",
   "language": "python",
   "name": "python3"
  },
  "language_info": {
   "codemirror_mode": {
    "name": "ipython",
    "version": 3
   },
   "file_extension": ".py",
   "mimetype": "text/x-python",
   "name": "python",
   "nbconvert_exporter": "python",
   "pygments_lexer": "ipython3",
   "version": "3.12.5"
  }
 },
 "nbformat": 4,
 "nbformat_minor": 2
}
